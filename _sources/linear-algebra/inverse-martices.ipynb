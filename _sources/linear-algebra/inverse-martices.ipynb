{
 "cells": [
  {
   "cell_type": "markdown",
   "metadata": {},
   "source": [
    "## Inverse Matrices\n"
   ]
  },
  {
   "cell_type": "markdown",
   "metadata": {},
   "source": [
    "What is concept inverse of a matrix? Like numbers, matrices do have reciprocals. In case of matrices, this reciprocal is called **inverse matrix**. If A is a **square** matrix and B is its inverse, then the product of two matrices is equal to the unit matrix. \n",
    "> DEFINITION The matrix *A* is **invertible** if there exists a matrix $A^{-1}$ that \"inverts\" *A*:  \n",
    ">            Two-sided inverse $AA^{-1} = I$ and  $A^{-1}A = I$\n",
    "\n",
    "**Not all matrices have inverse**, Here are four \"notes\" about $A^{-1}$.\n",
    "- Note 1: The inverse exists if and only if elimination produces *n* pivots (only row changes are allowed)\n",
    "- Note 2: If *A* is invertible, the one and only solution to *Ax = b* is *$x = A^{-1}b$* \n",
    "  > Mutiply *Ax=b* by $A^{-1}$. Then *$x = AA^{-1}b = A^{-1}b$* \n",
    "- Note 3:(Important) Suppose there is a nonzero vector $x$ such that *AX = 0*, then *A* cannot have an inverse. No matrix can bring 0 back *x*.\n",
    "- Note 4: a diagonal matrix has inverse provided no diagonal entries are zero."
   ]
  }
 ],
 "metadata": {
  "kernelspec": {
   "display_name": "Python 3.9.13 ('kzspace-ePujzJDD')",
   "language": "python",
   "name": "python3"
  },
  "language_info": {
   "name": "python",
   "version": "3.9.13"
  },
  "orig_nbformat": 4,
  "vscode": {
   "interpreter": {
    "hash": "77fcd6899ab62238e4635177e8a5c03feba212e8035c96e2c3b148fa0bab0dd1"
   }
  }
 },
 "nbformat": 4,
 "nbformat_minor": 2
}
