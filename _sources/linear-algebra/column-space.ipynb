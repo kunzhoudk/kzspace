{
 "cells": [
  {
   "cell_type": "markdown",
   "metadata": {},
   "source": [
    "## The Column Space of *A*\n"
   ]
  },
  {
   "cell_type": "markdown",
   "metadata": {},
   "source": [
    "In linear algebra, the column space (also called the range or image) of a matrix A is the set of all possible linear combinations(span) of its column vectors. \n",
    "> DEFINITION The *column space* consists of *all linear combinations of the columns*. the combinations are all possible vector *AX*. They fill the column space *C(A)*.\n",
    "\n",
    "To solve Ax = b is to express b as a combination of the columns. The right side *b* has to be in the column space produced by A on the left side, or no solution!\n",
    "> *The system Ax = b is solvable if and only if b is in the column space of A*\n",
    "\n",
    "When *b* is in the column space, it is a combination of the columns. The cofficients in that combination give us a solution to *Ax = b*. ......"
   ]
  }
 ],
 "metadata": {
  "kernelspec": {
   "display_name": "Python 3.9.13 ('kzspace-ePujzJDD')",
   "language": "python",
   "name": "python3"
  },
  "language_info": {
   "name": "python",
   "version": "3.9.13"
  },
  "orig_nbformat": 4,
  "vscode": {
   "interpreter": {
    "hash": "77fcd6899ab62238e4635177e8a5c03feba212e8035c96e2c3b148fa0bab0dd1"
   }
  }
 },
 "nbformat": 4,
 "nbformat_minor": 2
}
